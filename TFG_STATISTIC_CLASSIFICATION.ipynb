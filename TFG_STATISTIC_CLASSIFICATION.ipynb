{
 "cells": [
  {
   "cell_type": "code",
   "execution_count": 20,
   "id": "1dc35dd8-ec1d-4e58-9ada-7cfb278ee8bf",
   "metadata": {},
   "outputs": [],
   "source": [
    "import sklearn\n",
    "import pandas as pd\n",
    "import numpy as np\n",
    "import matplotlib.pyplot as plt\n",
    "import os\n",
    "from sklearn.metrics import (\n",
    "    accuracy_score, precision_score, recall_score, f1_score, classification_report\n",
    ")\n",
    "from sklearn.datasets import load_breast_cancer\n",
    "from sklearn.datasets import fetch_california_housing\n",
    "from sklearn.model_selection import train_test_split\n",
    "from sklearn.neighbors import KNeighborsClassifier\n",
    "from sklearn.neighbors import KNeighborsRegressor\n",
    "from sklearn.metrics import accuracy_score\n",
    "from sklearn.metrics import mean_squared_error\n",
    "from sklearn.metrics import confusion_matrix, ConfusionMatrixDisplay\n",
    "import matplotlib.pyplot as plt\n"
   ]
  },
  {
   "cell_type": "code",
   "execution_count": 33,
   "id": "fd0733e2-c9f5-4e17-bb16-a6c96b918ae2",
   "metadata": {},
   "outputs": [
    {
     "data": {
      "text/plain": [
       "'/Users/juanjorodriguez/Desktop/TFG/TFG/CODE/CLASSIFICATION2/FRAGMENTS_DE_OGFPS'"
      ]
     },
     "execution_count": 33,
     "metadata": {},
     "output_type": "execute_result"
    }
   ],
   "source": [
    "os.chdir('/Users/juanjorodriguez/Desktop/TFG/TFG/CODE/CLASSIFICATION2/FRAGMENTS_DE_OGFPS')\n",
    "os.getcwd()"
   ]
  },
  {
   "cell_type": "code",
   "execution_count": 34,
   "id": "c90c771a-671c-48ce-a285-4874ee5a9f63",
   "metadata": {},
   "outputs": [],
   "source": [
    "distance0_df=pd.read_csv('distance_matrix0.csv')\n",
    "distance1_df=pd.read_csv('distance_matrix1.csv')"
   ]
  },
  {
   "cell_type": "code",
   "execution_count": null,
   "id": "4cc3a6d6-58e5-4ca8-b614-b39847f97b93",
   "metadata": {},
   "outputs": [],
   "source": []
  },
  {
   "cell_type": "code",
   "execution_count": 35,
   "id": "4003c071-eb7b-4f1c-93d2-1fdccedcab9f",
   "metadata": {},
   "outputs": [],
   "source": [
    "files = [\"cs1-2all.mid\", \"cs1-3cou.mid\", 'cs3-1pre.mid', 'cs3-2all.mid', 'cs3-3cou.mid', 'cs3-5bou.mid', 'cs3-6gig.mid','bwv807b.mid','bwv807c.mid','bwv807e.mid',\n",
    "    'cs1-2all_transp_12.mid', 'cs1-3cou_transp_12.mid', 'cs3-1pre_transp_12.mid', 'cs3-2all_transp_12.mid', 'cs3-3cou_transp_12.mid', 'cs3-5bou_transp_12.mid', 'cs3-6gig_transp_12.mid', 'bwv807b_transp_12.mid', 'bwv807c_transp_12.mid', 'bwv807e_transp_12.mid',\n",
    "    'cs1-2all_transp_21.mid', 'cs1-3cou_transp_21.mid', 'cs3-1pre_transp_21.mid', 'cs3-2all_transp_21.mid', 'cs3-3cou_transp_21.mid', 'cs3-5bou_transp_21.mid', 'cs3-6gig_transp_21.mid', 'bwv807b_transp_21.mid', 'bwv807c_transp_21.mid', 'bwv807e_transp_21.mid',\n",
    "    'cs1-2all_transp_6.mid', 'cs1-3cou_transp_6.mid', 'cs3-1pre_transp_6.mid', 'cs3-2all_transp_6.mid', 'cs3-3cou_transp_6.mid', 'cs3-5bou_transp_6.mid', 'cs3-6gig_transp_6.mid', 'bwv807b_transp_6.mid', 'bwv807c_transp_6.mid', 'bwv807e_transp_6.mid',\n",
    "    'cs1-2all_transp_15.mid', 'cs1-3cou_transp_15.mid', 'cs3-1pre_transp_15.mid', 'cs3-2all_transp_15.mid', 'cs3-3cou_transp_15.mid', 'cs3-5bou_transp_15.mid', 'cs3-6gig_transp_15.mid', 'bwv807b_transp_15.mid', 'bwv807c_transp_15.mid', 'bwv807e_transp_15.mid',\n",
    "    'cs1-2all_transp_19.mid', 'cs1-3cou_transp_19.mid', 'cs3-1pre_transp_19.mid', 'cs3-2all_transp_19.mid', 'cs3-3cou_transp_19.mid', 'cs3-5bou_transp_19.mid', 'cs3-6gig_transp_19.mid', 'bwv807b_transp_19.mid', 'bwv807c_transp_19.mid', 'bwv807e_transp_19.mid',\n",
    "    'cs1-2all_transp_1.mid', 'cs1-3cou_transp_1.mid', 'cs3-1pre_transp_1.mid', 'cs3-2all_transp_1.mid', 'cs3-3cou_transp_1.mid', 'cs3-5bou_transp_1.mid', 'cs3-6gig_transp_1.mid', 'bwv807b_transp_1.mid', 'bwv807c_transp_1.mid', 'bwv807e_transp_1.mid',\n",
    "    'cs1-2all_transp_11.mid', 'cs1-3cou_transp_11.mid', 'cs3-1pre_transp_11.mid', 'cs3-2all_transp_11.mid', 'cs3-3cou_transp_11.mid', 'cs3-5bou_transp_11.mid', 'cs3-6gig_transp_11.mid', 'bwv807b_transp_11.mid', 'bwv807c_transp_11.mid', 'bwv807e_transp_11.mid',\n",
    "    'cs1-2all_transp_4.mid', 'cs1-3cou_transp_4.mid', 'cs3-1pre_transp_4.mid', 'cs3-2all_transp_4.mid', 'cs3-3cou_transp_4.mid', 'cs3-5bou_transp_4.mid', 'cs3-6gig_transp_4.mid', 'bwv807b_transp_4.mid', 'bwv807c_transp_4.mid', 'bwv807e_transp_4.mid',\n",
    "    'cs1-2all_transp_14.mid', 'cs1-3cou_transp_14.mid', 'cs3-1pre_transp_14.mid', 'cs3-2all_transp_14.mid', 'cs3-3cou_transp_14.mid', 'cs3-5bou_transp_14.mid', 'cs3-6gig_transp_14.mid', 'bwv807b_transp_14.mid', 'bwv807c_transp_14.mid', 'bwv807e_transp_14.mid',\n",
    "    'cs1-2all_transp_18.mid', 'cs1-3cou_transp_18.mid', 'cs3-1pre_transp_18.mid', 'cs3-2all_transp_18.mid', 'cs3-3cou_transp_18.mid', 'cs3-5bou_transp_18.mid', 'cs3-6gig_transp_18.mid', 'bwv807b_transp_18.mid', 'bwv807c_transp_18.mid', 'bwv807e_transp_18.mid'\n",
    "]"
   ]
  },
  {
   "cell_type": "code",
   "execution_count": 36,
   "id": "feb6bf5c-6bc0-4bd5-a55d-95dfe6bcf447",
   "metadata": {},
   "outputs": [],
   "source": [
    "my_index = files \n",
    "distance0_df.index = my_index\n",
    "distance1_df.index = my_index"
   ]
  },
  {
   "cell_type": "code",
   "execution_count": 37,
   "id": "7ab2ce50-74c2-4158-bb89-40e2e1f12f09",
   "metadata": {
    "jupyter": {
     "source_hidden": true
    }
   },
   "outputs": [],
   "source": [
    "true_labels = {\n",
    "\n",
    "    'cs1-2all.mid': 'cs1-2all.mid',\n",
    "    'cs1-3cou.mid': 'cs1-3cou.mid',\n",
    "    'cs3-1pre.mid': 'cs3-1pre.mid',\n",
    "    'cs3-2all.mid': 'cs3-2all.mid',\n",
    "    'cs3-3cou.mid': 'cs3-3cou.mid',\n",
    "    'cs3-5bou.mid': 'cs3-5bou.mid',\n",
    "    'cs3-6gig.mid': 'cs3-6gig.mid',\n",
    "    'bwv807b.mid': 'bwv807b.mid',\n",
    "    'bwv807c.mid': 'bwv807c.mid',\n",
    "    'bwv807e.mid': 'bwv807e.mid',\n",
    "    \n",
    "    'cs1-2all_transp_12.mid': 'cs1-2all.mid',\n",
    "    'cs1-3cou_transp_12.mid': 'cs1-3cou.mid',\n",
    "    'cs3-1pre_transp_12.mid': 'cs3-1pre.mid',\n",
    "    'cs3-2all_transp_12.mid': 'cs3-2all.mid',\n",
    "    'cs3-3cou_transp_12.mid': 'cs3-3cou.mid',\n",
    "    'cs3-5bou_transp_12.mid': 'cs3-5bou.mid',\n",
    "    'cs3-6gig_transp_12.mid': 'cs3-6gig.mid',\n",
    "    'bwv807b_transp_12.mid': 'bwv807b.mid',\n",
    "    'bwv807c_transp_12.mid': 'bwv807c.mid',\n",
    "    'bwv807e_transp_12.mid': 'bwv807e.mid',\n",
    "    \n",
    "    'cs1-2all_transp_21.mid': 'cs1-2all.mid',\n",
    "    'cs1-3cou_transp_21.mid': 'cs1-3cou.mid',\n",
    "    'cs3-1pre_transp_21.mid': 'cs3-1pre.mid',\n",
    "    'cs3-2all_transp_21.mid': 'cs3-2all.mid',\n",
    "    'cs3-3cou_transp_21.mid': 'cs3-3cou.mid',\n",
    "    'cs3-5bou_transp_21.mid': 'cs3-5bou.mid',\n",
    "    'cs3-6gig_transp_21.mid': 'cs3-6gig.mid',\n",
    "    'bwv807b_transp_21.mid': 'bwv807b.mid',\n",
    "    'bwv807c_transp_21.mid': 'bwv807c.mid',\n",
    "    'bwv807e_transp_21.mid': 'bwv807e.mid',\n",
    "    \n",
    "    'cs1-2all_transp_6.mid': 'cs1-2all.mid',\n",
    "    'cs1-3cou_transp_6.mid': 'cs1-3cou.mid',\n",
    "    'cs3-1pre_transp_6.mid': 'cs3-1pre.mid',\n",
    "    'cs3-2all_transp_6.mid': 'cs3-2all.mid',\n",
    "    'cs3-3cou_transp_6.mid': 'cs3-3cou.mid',\n",
    "    'cs3-5bou_transp_6.mid': 'cs3-5bou.mid',\n",
    "    'cs3-6gig_transp_6.mid': 'cs3-6gig.mid',\n",
    "    'bwv807b_transp_6.mid': 'bwv807b.mid',\n",
    "    'bwv807c_transp_6.mid': 'bwv807c.mid',\n",
    "    'bwv807e_transp_6.mid': 'bwv807e.mid',\n",
    "    \n",
    "    'cs1-2all_transp_15.mid': 'cs1-2all.mid',\n",
    "    'cs1-3cou_transp_15.mid': 'cs1-3cou.mid',\n",
    "    'cs3-1pre_transp_15.mid': 'cs3-1pre.mid',\n",
    "    'cs3-2all_transp_15.mid': 'cs3-2all.mid',\n",
    "    'cs3-3cou_transp_15.mid': 'cs3-3cou.mid',\n",
    "    'cs3-5bou_transp_15.mid': 'cs3-5bou.mid',\n",
    "    'cs3-6gig_transp_15.mid': 'cs3-6gig.mid',\n",
    "    'bwv807b_transp_15.mid': 'bwv807b.mid',\n",
    "    'bwv807c_transp_15.mid': 'bwv807c.mid',\n",
    "    'bwv807e_transp_15.mid': 'bwv807e.mid',\n",
    "    \n",
    "    'cs1-2all_transp_19.mid': 'cs1-2all.mid',\n",
    "    'cs1-3cou_transp_19.mid': 'cs1-3cou.mid',\n",
    "    'cs3-1pre_transp_19.mid': 'cs3-1pre.mid',\n",
    "    'cs3-2all_transp_19.mid': 'cs3-2all.mid',\n",
    "    'cs3-3cou_transp_19.mid': 'cs3-3cou.mid',\n",
    "    'cs3-5bou_transp_19.mid': 'cs3-5bou.mid',\n",
    "    'cs3-6gig_transp_19.mid': 'cs3-6gig.mid',\n",
    "    'bwv807b_transp_19.mid': 'bwv807b.mid',\n",
    "    'bwv807c_transp_19.mid': 'bwv807c.mid',\n",
    "    'bwv807e_transp_19.mid': 'bwv807e.mid',\n",
    "    \n",
    "    'cs1-2all_transp_1.mid': 'cs1-2all.mid',\n",
    "    'cs1-3cou_transp_1.mid': 'cs1-3cou.mid',\n",
    "    'cs3-1pre_transp_1.mid': 'cs3-1pre.mid',\n",
    "    'cs3-2all_transp_1.mid': 'cs3-2all.mid',\n",
    "    'cs3-3cou_transp_1.mid': 'cs3-3cou.mid',\n",
    "    'cs3-5bou_transp_1.mid': 'cs3-5bou.mid',\n",
    "    'cs3-6gig_transp_1.mid': 'cs3-6gig.mid',\n",
    "    'bwv807b_transp_1.mid': 'bwv807b.mid',\n",
    "    'bwv807c_transp_1.mid': 'bwv807c.mid',\n",
    "    'bwv807e_transp_1.mid': 'bwv807e.mid',\n",
    "    \n",
    "    'cs1-2all_transp_11.mid': 'cs1-2all.mid',\n",
    "    'cs1-3cou_transp_11.mid': 'cs1-3cou.mid',\n",
    "    'cs3-1pre_transp_11.mid': 'cs3-1pre.mid',\n",
    "    'cs3-2all_transp_11.mid': 'cs3-2all.mid',\n",
    "    'cs3-3cou_transp_11.mid': 'cs3-3cou.mid',\n",
    "    'cs3-5bou_transp_11.mid': 'cs3-5bou.mid',\n",
    "    'cs3-6gig_transp_11.mid': 'cs3-6gig.mid',\n",
    "    'bwv807b_transp_11.mid': 'bwv807b.mid',\n",
    "    'bwv807c_transp_11.mid': 'bwv807c.mid',\n",
    "    'bwv807e_transp_11.mid': 'bwv807e.mid',\n",
    "    \n",
    "    'cs1-2all_transp_4.mid': 'cs1-2all.mid',\n",
    "    'cs1-3cou_transp_4.mid': 'cs1-3cou.mid',\n",
    "    'cs3-1pre_transp_4.mid': 'cs3-1pre.mid',\n",
    "    'cs3-2all_transp_4.mid': 'cs3-2all.mid',\n",
    "    'cs3-3cou_transp_4.mid': 'cs3-3cou.mid',\n",
    "    'cs3-5bou_transp_4.mid': 'cs3-5bou.mid',\n",
    "    'cs3-6gig_transp_4.mid': 'cs3-6gig.mid',\n",
    "    'bwv807b_transp_4.mid': 'bwv807b.mid',\n",
    "    'bwv807c_transp_4.mid': 'bwv807c.mid',\n",
    "    'bwv807e_transp_4.mid': 'bwv807e.mid',\n",
    "    \n",
    "    'cs1-2all_transp_14.mid': 'cs1-2all.mid',\n",
    "    'cs1-3cou_transp_14.mid': 'cs1-3cou.mid',\n",
    "    'cs3-1pre_transp_14.mid': 'cs3-1pre.mid',\n",
    "    'cs3-2all_transp_14.mid': 'cs3-2all.mid',\n",
    "    'cs3-3cou_transp_14.mid': 'cs3-3cou.mid',\n",
    "    'cs3-5bou_transp_14.mid': 'cs3-5bou.mid',\n",
    "    'cs3-6gig_transp_14.mid': 'cs3-6gig.mid',\n",
    "    'bwv807b_transp_14.mid': 'bwv807b.mid',\n",
    "    'bwv807c_transp_14.mid': 'bwv807c.mid',\n",
    "    'bwv807e_transp_14.mid': 'bwv807e.mid',\n",
    "    \n",
    "    'cs1-2all_transp_18.mid': 'cs1-2all.mid',\n",
    "    'cs1-3cou_transp_18.mid': 'cs1-3cou.mid',\n",
    "    'cs3-1pre_transp_18.mid': 'cs3-1pre.mid',\n",
    "    'cs3-2all_transp_18.mid': 'cs3-2all.mid',\n",
    "    'cs3-3cou_transp_18.mid': 'cs3-3cou.mid',\n",
    "    'cs3-5bou_transp_18.mid': 'cs3-5bou.mid',\n",
    "    'cs3-6gig_transp_18.mid': 'cs3-6gig.mid',\n",
    "    'bwv807b_transp_18.mid': 'bwv807b.mid',\n",
    "    'bwv807c_transp_18.mid': 'bwv807c.mid',\n",
    "    'bwv807e_transp_18.mid': 'bwv807e.mid'\n",
    "}\n"
   ]
  },
  {
   "cell_type": "code",
   "execution_count": 38,
   "id": "095b10ea-4a1a-4446-b6df-968f9af0e669",
   "metadata": {},
   "outputs": [],
   "source": [
    "def run_knn_experiment(distance_df, true_labels_dict, n_runs=10, random_seed=None):\n",
    "    if random_seed is not None:\n",
    "        np.random.seed(random_seed)\n",
    "        \n",
    "    accuracy_list = []\n",
    "\n",
    "    file_list = distance_df.index.tolist()\n",
    "\n",
    "    for run in range(n_runs):\n",
    "        # 1. Selección aleatoria de índices de entrenamiento\n",
    "        train_indices = [np.random.randint(0, 11)*10 + i - 1 for i in range(1, 11)]\n",
    "\n",
    "        labeled_idx = [file_list[i] for i in train_indices]\n",
    "        unlabeled_idx = [f for j, f in enumerate(file_list) if j not in train_indices]\n",
    "\n",
    "        # 2. Etiquetas conocidas\n",
    "        labels = [\n",
    "            \"cs1-2all.mid\", \"cs1-3cou.mid\", \"cs3-1pre.mid\", \"cs3-2all.mid\",\n",
    "            \"cs3-3cou.mid\", \"cs3-5bou.mid\", \"cs3-6gig.mid\",\n",
    "            \"bwv807b.mid\", \"bwv807c.mid\", \"bwv807e.mid\"\n",
    "        ]\n",
    "        label_series = pd.Series(labels, index=labeled_idx)\n",
    "\n",
    "        # 3. Clasificación 1-NN\n",
    "        predictions = {}\n",
    "        for idx in unlabeled_idx:\n",
    "            distances = distance_df.loc[idx, labeled_idx]\n",
    "            nearest_neighbor = distances.idxmin()\n",
    "            predicted_label = label_series[nearest_neighbor]\n",
    "            predictions[idx] = predicted_label\n",
    "\n",
    "        # 4. Calcular accuracy\n",
    "        y_true = [true_labels_dict[file] for file in predictions.keys()]\n",
    "        y_pred = list(predictions.values())\n",
    "        acc = accuracy_score(y_true, y_pred)\n",
    "        accuracy_list.append(acc)\n",
    "\n",
    "        #print(f\"Run {run + 1}/{n_runs}: Accuracy = {acc:.4f}\")\n",
    "    \n",
    "    return accuracy_list"
   ]
  },
  {
   "cell_type": "code",
   "execution_count": null,
   "id": "433e9511-b250-4534-abf6-197f2d386a9b",
   "metadata": {
    "scrolled": true
   },
   "outputs": [],
   "source": [
    "accuracies = run_knn_experiment(distance1_df, true_labels, n_runs=2000)\n",
    "#print(\"Promedio de accuracy:\", np.mean(accuracies))\n"
   ]
  },
  {
   "cell_type": "code",
   "execution_count": 40,
   "id": "d569e004-0af0-428b-92bd-5abaf8534f8f",
   "metadata": {},
   "outputs": [
    {
     "data": {
      "text/plain": [
       "0.46059000000000005"
      ]
     },
     "execution_count": 40,
     "metadata": {},
     "output_type": "execute_result"
    }
   ],
   "source": [
    "np.mean(accuracies)"
   ]
  },
  {
   "cell_type": "code",
   "execution_count": 41,
   "id": "334262d7-e367-496f-a459-8062658b7d78",
   "metadata": {},
   "outputs": [
    {
     "data": {
      "text/plain": [
       "0.080820491832208"
      ]
     },
     "execution_count": 41,
     "metadata": {},
     "output_type": "execute_result"
    }
   ],
   "source": [
    "np.std(accuracies)"
   ]
  },
  {
   "cell_type": "code",
   "execution_count": null,
   "id": "e2712301-08d5-4c44-8eb9-c369972f8cb3",
   "metadata": {},
   "outputs": [],
   "source": []
  }
 ],
 "metadata": {
  "kernelspec": {
   "display_name": "Python 3 (ipykernel)",
   "language": "python",
   "name": "python3"
  },
  "language_info": {
   "codemirror_mode": {
    "name": "ipython",
    "version": 3
   },
   "file_extension": ".py",
   "mimetype": "text/x-python",
   "name": "python",
   "nbconvert_exporter": "python",
   "pygments_lexer": "ipython3",
   "version": "3.9.21"
  }
 },
 "nbformat": 4,
 "nbformat_minor": 5
}
